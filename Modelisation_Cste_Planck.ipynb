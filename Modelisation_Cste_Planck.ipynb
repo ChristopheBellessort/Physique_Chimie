{
 "cells": [
  {
   "cell_type": "markdown",
   "metadata": {},
   "source": [
    "# TP - Détermination de la constante de Planck - Traitement des mesures expérimentales à l'aide d'un programme Python #"
   ]
  },
  {
   "cell_type": "markdown",
   "metadata": {},
   "source": []
  },
  {
   "cell_type": "code",
   "execution_count": null,
   "metadata": {},
   "outputs": [],
   "source": [
    "import matplotlib.pyplot as plt  # Bibliothèque graphique pour tracer les courbes et placer les points de mesure\n",
    "from scipy.optimize import curve_fit  # Importation de la fonction de recherche du modèle.\n",
    "from tkinter.filedialog import askopenfilename\n",
    "from scipy.optimize import curve_fit\n",
    "import numpy as np\n",
    "\n",
    "def Rel_modele(pente, frequence):\n",
    "    U = pente * frequence\n",
    "    return(U)\n",
    "\n",
    "# ouvre une fenêtre pour charger le fichier csv issu des pointages NE PAS MODIFIER\n",
    "nom_CSV = askopenfilename(filetypes =((\"Fichier CSV\", \"*.csv\"),(\"Fichier Texte\",\"*.txt\"),(\"Tous les fichiers\",\"*.*\")),title = \"Choisir un fichier\")"
   ]
  }
 ],
 "metadata": {
  "kernelspec": {
   "display_name": "Python 3",
   "language": "python",
   "name": "python3"
  },
  "language_info": {
   "codemirror_mode": {
    "name": "ipython",
    "version": 3
   },
   "file_extension": ".py",
   "mimetype": "text/x-python",
   "name": "python",
   "nbconvert_exporter": "python",
   "pygments_lexer": "ipython3",
   "version": "3.8.5"
  }
 },
 "nbformat": 4,
 "nbformat_minor": 4
}
