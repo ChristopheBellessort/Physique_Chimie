{
 "cells": [
  {
   "cell_type": "markdown",
   "metadata": {},
   "source": [
    "# Exploitation des mesures de volume - Réaction entre le magnésium et l'acide chlorhydrique #"
   ]
  },
  {
   "cell_type": "markdown",
   "metadata": {},
   "source": [
    "## Réaction chimique ##\n",
    "$\\text{Mg}_{(s)} + 2 \\text{H}^+_{(aq)} \\rightarrow \\text{Mg}_{(aq)}^{2+} + \\text{H}_{2(g)}$"
   ]
  },
  {
   "cell_type": "markdown",
   "metadata": {},
   "source": [
    "## Tableau d'avancement de la réaction ##\n",
    "![caption](https://christophebellessort.canoprof.fr/eleve/1_SPE_PH-CH/TableauAvancementMagnesium.png)"
   ]
  },
  {
   "cell_type": "markdown",
   "metadata": {},
   "source": [
    "## Correspondance entre les notations du TP et les noms des variables du programme ##\n",
    "![caption](https://christophebellessort.canoprof.fr/eleve/1_SPE_PH-CH/Correspondances_variables.png)"
   ]
  },
  {
   "cell_type": "markdown",
   "metadata": {},
   "source": [
    "## Construction du programme pas à pas ##"
   ]
  },
  {
   "cell_type": "markdown",
   "metadata": {},
   "source": [
    "### Importation des bibliothèques ###"
   ]
  },
  {
   "cell_type": "code",
   "execution_count": null,
   "metadata": {},
   "outputs": [],
   "source": [
    "import matplotlib.pyplot as plt  # Importation de la bibliothèque graphique\n",
    "import numpy as np  # Importation de numpy pour la fonction d'import de mesures"
   ]
  },
  {
   "cell_type": "markdown",
   "metadata": {},
   "source": [
    "### Entrée des deux listes t et VH ###"
   ]
  },
  {
   "cell_type": "code",
   "execution_count": null,
   "metadata": {},
   "outputs": [],
   "source": [
    "t, VH = np.loadtxt(mesures.csv, skiprows=1, delimiter=\";\", unpack=True, usecols=(0, 1))"
   ]
  }
 ],
 "metadata": {
  "kernelspec": {
   "display_name": "Python 3",
   "language": "python",
   "name": "python3"
  },
  "language_info": {
   "codemirror_mode": {
    "name": "ipython",
    "version": 3
   },
   "file_extension": ".py",
   "mimetype": "text/x-python",
   "name": "python",
   "nbconvert_exporter": "python",
   "pygments_lexer": "ipython3",
   "version": "3.8.5"
  }
 },
 "nbformat": 4,
 "nbformat_minor": 4
}
