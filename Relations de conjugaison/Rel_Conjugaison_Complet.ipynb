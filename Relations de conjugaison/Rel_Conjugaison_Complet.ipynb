{
 "cells": [
  {
   "cell_type": "markdown",
   "metadata": {},
   "source": [
    "# Relations de conjugaison - Position et nature de l'image #"
   ]
  },
  {
   "cell_type": "markdown",
   "metadata": {},
   "source": [
    "## Objectif ##"
   ]
  },
  {
   "cell_type": "markdown",
   "metadata": {},
   "source": [
    "Il s'agit d'utiliser dans un programme en Python la relation de conjugaison et du grandissement pour calculer automatiquement la position, la taille, l'orientation et la nature de l'image.<br>\n",
    "**RAPPEL :** Dans un Notebook Python, les cellules de code s'exécutent en cliquant dedans et en utilisant la combinaison de touches **SHIFT + ENTRÉE**.\n",
    "On rappelle les relations établies en cours :\n",
    "* Relation de conjugaison : $\\dfrac{1}{\\overline{OA'}}- \\dfrac{1}{\\overline{OA}}=\\dfrac{1}{f'}$\n",
    "* Relation du grandissement : $\\gamma=\\dfrac{\\overline{A'B'}}{\\overline{AB}}=\\dfrac{\\overline{OA'}}{\\overline{OA}}$"
   ]
  },
  {
   "cell_type": "markdown",
   "metadata": {},
   "source": [
    "Le programme doit être capable de :<br>\n",
    "* proposer la saisie des données : distance focale, position de l'objet, taille de l'objet ;\n",
    "* calculer la position de l'image et l'afficher dans l'unité choisie ;\n",
    "* calculer le grandissement $\\gamma$ ;\n",
    "* calculer la taille de l'image ;\n",
    "* donner sa nature et son sens : réelle/virtuelle, droite/renversée.\n",
    "On rappelle l'expression littérale de la position de l'image en fonction des données :<br>\n",
    "$\\overline{OA'}=\\dfrac{f' \\times \\overline{OA}}{f' + \\overline{OA}}$"
   ]
  },
  {
   "cell_type": "markdown",
   "metadata": {},
   "source": [
    "## Nom des variables utilisées dans le programme ##\n",
    "Pour écrire le programme en Python, nous allons remplacer les grandeurs physiques par des *variables* qui pourront être utilisées dans un programme. <br>\n",
    "* $\\overline{OA}$ sera représenté par la variable **xA** ;\n",
    "* $\\overline{OA'}$ sera représenté par la variable **xAprime** ;\n",
    "* $f'$ sera représenté par la variable **f** ;\n",
    "* $\\overline{AB}$ sera représenté par la variable **AB** ;\n",
    "* $\\overline{A'B'}$ sera représenté par la variable **ABprime** ;\n",
    "* $\\gamma$ sera représenté par la variable **gamma**."
   ]
  },
  {
   "cell_type": "markdown",
   "metadata": {},
   "source": [
    "## Choix de l'unité et saisie des données ##"
   ]
  },
  {
   "cell_type": "code",
   "execution_count": null,
   "metadata": {},
   "outputs": [],
   "source": [
    "unite = [\"mm\", \"cm\", \"m\"] # Liste des unités pour l'affichage des résultats\n",
    "'''Choix des unités'''\n",
    "print(\"Choisissez l'unité utilisée pour les dimensions et distances (1, 2, ou 3)\")\n",
    "print(\"1 - mm\")\n",
    "print(\"2 - cm\")\n",
    "print(\"3 - m\")\n",
    "choix = 0\n",
    "while (choix!=1) and (choix!=2) and (choix!=3):\n",
    "    choix = int(input(\"Entrez votre choix\"))\n",
    "\n",
    "'''Saisie des données'''\n",
    "f = float(input(\"Entrez la distance focale de la lentille dans l'unité choisie\"))\n",
    "xA = float(input(\"Entrez la position de l'objet dans l'unité choisie (Attention au signe)\"))\n",
    "AB = float(input(\"Entrez la taille de l'objet dans l'unité choisie\"))"
   ]
  },
  {
   "cell_type": "markdown",
   "metadata": {},
   "source": [
    "## Calcul de la position et de la taille de l'image ##"
   ]
  },
  {
   "cell_type": "code",
   "execution_count": null,
   "metadata": {},
   "outputs": [],
   "source": [
    "xAprime = (f * xA)/(f + xA)  # Calcul de la position de l'image\n",
    "gamma = xAprime / xA  # Calcul du grandissement\n",
    "ABprime = gamma * AB  # Calcul de la taille de l'image"
   ]
  },
  {
   "cell_type": "markdown",
   "metadata": {},
   "source": [
    "## Affichage des résultats ##"
   ]
  },
  {
   "cell_type": "code",
   "execution_count": null,
   "metadata": {},
   "outputs": [],
   "source": [
    "print(f\"Position de l'objet : {xA:.3e} {unite[choix - 1]}\")\n",
    "print(f\"Position de l'image : {xAprime:.3e} {unite[choix - 1]}\")\n",
    "print(f\"Grandissement : {gamma:.3e}\")\n",
    "print(f\"Taille de l'image : {abs(ABprime):.3e} {unite[choix - 1]}\")"
   ]
  },
  {
   "cell_type": "markdown",
   "metadata": {},
   "source": [
    "## Affichage des caractéristiques de l'image ##"
   ]
  },
  {
   "cell_type": "code",
   "execution_count": null,
   "metadata": {},
   "outputs": [],
   "source": [
    "if (xAprime > 0) :\n",
    "    print(\"L'image est réelle.\")\n",
    "else :\n",
    "    print(\"L'image est virtuelle.\")\n",
    "if (gamma < 0):\n",
    "    print(\"L'image est renversée.\")\n",
    "else :\n",
    "    print(\"L'image est droite.\")\n",
    "if (abs(gamma) > 1):\n",
    "    print(\"L'image est plus grande que l'objet.\")\n",
    "elif (abs(gamma) < 1):\n",
    "    print(\"L'image est plus petite que l'objet.\")\n",
    "else :\n",
    "    print(\"L'image a la même taille que l'objet.\")"
   ]
  },
  {
   "cell_type": "code",
   "execution_count": null,
   "metadata": {},
   "outputs": [],
   "source": []
  }
 ],
 "metadata": {
  "kernelspec": {
   "display_name": "Python 3",
   "language": "python",
   "name": "python3"
  },
  "language_info": {
   "codemirror_mode": {
    "name": "ipython",
    "version": 3
   },
   "file_extension": ".py",
   "mimetype": "text/x-python",
   "name": "python",
   "nbconvert_exporter": "python",
   "pygments_lexer": "ipython3",
   "version": "3.8.2"
  }
 },
 "nbformat": 4,
 "nbformat_minor": 4
}
