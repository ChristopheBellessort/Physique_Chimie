{
 "cells": [
  {
   "cell_type": "markdown",
   "metadata": {},
   "source": [
    "# Exploitation des mesures de volume - Réaction entre le magnésium et l'acide chlorhydrique #"
   ]
  },
  {
   "cell_type": "markdown",
   "metadata": {},
   "source": [
    "## Réaction chimique ##\n",
    "$\\text{Mg}_{(s)} + 2 \\text{H}^+_{(aq)} \\rightarrow \\text{Mg}_{(aq)}^{2+} + \\text{H}_{2(g)}$"
   ]
  },
  {
   "cell_type": "markdown",
   "metadata": {},
   "source": [
    "## Tableau d'avancement de la réaction ##\n",
    "![caption](https://christophebellessort.canoprof.fr/eleve/1_SPE_PH-CH/TableauAvancementMagnesium.png)"
   ]
  },
  {
   "cell_type": "markdown",
   "metadata": {},
   "source": [
    "## Correspondance entre les notations du TP et les noms des variables du programme ##\n",
    "![caption](https://christophebellessort.canoprof.fr/eleve/1_SPE_PH-CH/Correspondances_variables.png)"
   ]
  },
  {
   "cell_type": "markdown",
   "metadata": {},
   "source": [
    "## Construction du programme pas à pas ##"
   ]
  },
  {
   "cell_type": "markdown",
   "metadata": {},
   "source": [
    "### Importation des bibliothèques ###"
   ]
  },
  {
   "cell_type": "code",
   "execution_count": 4,
   "metadata": {},
   "outputs": [],
   "source": [
    "import matplotlib.pyplot as plt  # Importation de la bibliothèque graphique\n",
    "import numpy as np  # Importation de numpy pour la fonction d'import de mesures"
   ]
  },
  {
   "cell_type": "code",
   "execution_count": 5,
   "metadata": {},
   "outputs": [],
   "source": [
    "from tkinter.filedialog import askopenfilename  # Importation de la fonction d'ouverture du fichier"
   ]
  },
  {
   "cell_type": "code",
   "execution_count": 6,
   "metadata": {},
   "outputs": [
    {
     "ename": "StopIteration",
     "evalue": "",
     "output_type": "error",
     "traceback": [
      "\u001b[0;31m---------------------------------------------------------------------------\u001b[0m",
      "\u001b[0;31mStopIteration\u001b[0m                             Traceback (most recent call last)",
      "\u001b[0;32m<ipython-input-6-9c474b8bb2c1>\u001b[0m in \u001b[0;36m<module>\u001b[0;34m\u001b[0m\n\u001b[1;32m      6\u001b[0m \u001b[0mATTENTION\u001b[0m \u001b[0;34m:\u001b[0m \u001b[0mIl\u001b[0m \u001b[0mfaut\u001b[0m \u001b[0mavoir\u001b[0m \u001b[0mun\u001b[0m \u001b[0mfichier\u001b[0m \u001b[0mde\u001b[0m \u001b[0mvaleurs\u001b[0m \u001b[0mau\u001b[0m \u001b[0mformat\u001b[0m \u001b[0mcsv\u001b[0m \u001b[0mavec\u001b[0m \u001b[0mle\u001b[0m \u001b[0;34m.\u001b[0m \u001b[0mcomme\u001b[0m \u001b[0mséparateur\u001b[0m\u001b[0;34m\u001b[0m\u001b[0;34m\u001b[0m\u001b[0m\n\u001b[1;32m      7\u001b[0m décimal et le ';' comme séparateur de colonnes\"\"\"\n\u001b[0;32m----> 8\u001b[0;31m \u001b[0mt\u001b[0m\u001b[0;34m,\u001b[0m \u001b[0mVH\u001b[0m \u001b[0;34m=\u001b[0m \u001b[0mnp\u001b[0m\u001b[0;34m.\u001b[0m\u001b[0mloadtxt\u001b[0m\u001b[0;34m(\u001b[0m\u001b[0mnom_fichier\u001b[0m\u001b[0;34m,\u001b[0m \u001b[0mskiprows\u001b[0m\u001b[0;34m=\u001b[0m\u001b[0;36m1\u001b[0m\u001b[0;34m,\u001b[0m \u001b[0mdelimiter\u001b[0m\u001b[0;34m=\u001b[0m\u001b[0;34m\";\"\u001b[0m\u001b[0;34m,\u001b[0m \u001b[0munpack\u001b[0m\u001b[0;34m=\u001b[0m\u001b[0;32mTrue\u001b[0m\u001b[0;34m,\u001b[0m \u001b[0musecols\u001b[0m\u001b[0;34m=\u001b[0m\u001b[0;34m(\u001b[0m\u001b[0;36m0\u001b[0m\u001b[0;34m,\u001b[0m \u001b[0;36m1\u001b[0m\u001b[0;34m)\u001b[0m\u001b[0;34m)\u001b[0m\u001b[0;34m\u001b[0m\u001b[0;34m\u001b[0m\u001b[0m\n\u001b[0m",
      "\u001b[0;32m~/.local/lib/python3.8/site-packages/numpy/lib/npyio.py\u001b[0m in \u001b[0;36mloadtxt\u001b[0;34m(fname, dtype, comments, delimiter, converters, skiprows, usecols, unpack, ndmin, encoding, max_rows)\u001b[0m\n\u001b[1;32m   1083\u001b[0m         \u001b[0;31m# Skip the first `skiprows` lines\u001b[0m\u001b[0;34m\u001b[0m\u001b[0;34m\u001b[0m\u001b[0;34m\u001b[0m\u001b[0m\n\u001b[1;32m   1084\u001b[0m         \u001b[0;32mfor\u001b[0m \u001b[0mi\u001b[0m \u001b[0;32min\u001b[0m \u001b[0mrange\u001b[0m\u001b[0;34m(\u001b[0m\u001b[0mskiprows\u001b[0m\u001b[0;34m)\u001b[0m\u001b[0;34m:\u001b[0m\u001b[0;34m\u001b[0m\u001b[0;34m\u001b[0m\u001b[0m\n\u001b[0;32m-> 1085\u001b[0;31m             \u001b[0mnext\u001b[0m\u001b[0;34m(\u001b[0m\u001b[0mfh\u001b[0m\u001b[0;34m)\u001b[0m\u001b[0;34m\u001b[0m\u001b[0;34m\u001b[0m\u001b[0m\n\u001b[0m\u001b[1;32m   1086\u001b[0m \u001b[0;34m\u001b[0m\u001b[0m\n\u001b[1;32m   1087\u001b[0m         \u001b[0;31m# Read until we find a line with some values, and use\u001b[0m\u001b[0;34m\u001b[0m\u001b[0;34m\u001b[0m\u001b[0;34m\u001b[0m\u001b[0m\n",
      "\u001b[0;31mStopIteration\u001b[0m: "
     ]
    }
   ],
   "source": [
    "# ouvre une fenêtre pour charger le fichier csv issu des pointages NE PAS MODIFIER\n",
    "nom_fichier = askopenfilename(filetypes =((\"Fichier CSV\", \"*.csv\"),(\"Fichier Texte\",\"*.txt\"),(\"Tous les fichiers\",\"*.*\")),title = \"Choisir un fichier\")\n",
    "# nom_fichier contient le chemin et le nom du fichier à traiter.\n",
    "\"\"\"La ligne ci-dessous importe les données du fichier de mesures et les place\n",
    "dans deux listes : t et VH (date et volume de dihydrogène dégagé)\n",
    "ATTENTION : Il faut avoir un fichier de valeurs au format csv avec le . comme séparateur\n",
    "décimal et le ';' comme séparateur de colonnes\"\"\"\n",
    "t, VH = np.loadtxt(nom_fichier, skiprows=1, delimiter=\";\", unpack=True, usecols=(0, 1))"
   ]
  },
  {
   "cell_type": "code",
   "execution_count": null,
   "metadata": {},
   "outputs": [],
   "source": []
  }
 ],
 "metadata": {
  "kernelspec": {
   "display_name": "Python 3",
   "language": "python",
   "name": "python3"
  },
  "language_info": {
   "codemirror_mode": {
    "name": "ipython",
    "version": 3
   },
   "file_extension": ".py",
   "mimetype": "text/x-python",
   "name": "python",
   "nbconvert_exporter": "python",
   "pygments_lexer": "ipython3",
   "version": "3.8.5"
  }
 },
 "nbformat": 4,
 "nbformat_minor": 4
}
